{
 "metadata": {
  "name": "Chapter16_Functional_programming"
 },
 "nbformat": 3,
 "nbformat_minor": 0,
 "worksheets": [
  {
   "cells": [
    {
     "cell_type": "markdown",
     "metadata": {},
     "source": [
      "[Python for Developers](http://ricardoduarte.github.io/python-for-developers/#content)\n",
      "==================================\n",
      "2nd edition, revised and extended\n",
      "---------------------------------\n",
      "\n",
      "Chapter 16: Functional programming\n",
      "==================================\n",
      "_____________________________\n",
      "Functional programming is a paradigm that treats computation as an evaluation of mathematical functions. Such functions can be used in sequences of data (typically lists). Lisp, Scheme and Haskell are examples of functional languages (the last influenced the Python project in a significant way).\n",
      "\n",
      "The basic operations of the functional paradigm are implemented in Python by the builtin functions `map()`, `filter()`, `reduce()` and `zip()`.\n",
      "\n",
      "Lambda\n",
      "------\n",
      "In Python, a *lambda* function is an anonymous function composed entirely of expressions. Lambda functions can have just one line, and can be assigned a variable. Lambda functions are widely used in functional programming.\n",
      "\n",
      "Syntax:\n",
      "\n",
      "    lambda <list of variables>: <expressions>\n",
      "\n",
      "Example:"
     ]
    },
    {
     "cell_type": "code",
     "collapsed": false,
     "input": [
      "# Amplitude of a 3D vector\n",
      "amp = lambda x, y, z: (x ** 2 + y ** 2 + z ** 2) ** .5\n",
      "                                                       \n",
      "print amp(1, 1, 1)\n",
      "print amp(3, 4, 5)"
     ],
     "language": "python",
     "metadata": {},
     "outputs": [
      {
       "output_type": "stream",
       "stream": "stdout",
       "text": [
        "1.73205080757\n",
        "7.07106781187\n"
       ]
      }
     ],
     "prompt_number": 1
    },
    {
     "cell_type": "markdown",
     "metadata": {},
     "source": [
      "*Lambda* functions consume less computational resources than conventional functions, however they are more limited.\n",
      "\n",
      "Mapping\n",
      "-------\n",
      "Mapping consists of applying a function to all the items of a sequence, generating another list which contains the results and is the same length as the original list.\n",
      "\n",
      "![Example of mapping](files/bpypd_diags9.png)\n",
      "\n",
      "In Python, mapping is implemented by the function `map()`.\n",
      "\n",
      "Examples:"
     ]
    },
    {
     "cell_type": "code",
     "collapsed": false,
     "input": [
      "nums = [1, 2, 3, 4, 5, 6, 7, 8, 9, 10, 11, 12]\n",
      "\n",
      "# Log base 10 \n",
      "from math import log10\n",
      "print map(log10, nums)\n",
      "\n",
      "# Division by 3\n",
      "print map(lambda x: x / 3, nums)"
     ],
     "language": "python",
     "metadata": {},
     "outputs": [
      {
       "output_type": "stream",
       "stream": "stdout",
       "text": [
        "[0.0, 0.3010299956639812, 0.47712125471966244, 0.6020599913279624, 0.6989700043360189, 0.7781512503836436, 0.8450980400142568, 0.9030899869919435, 0.9542425094393249, 1.0, 1.041392685158225, 1.0791812460476249]\n",
        "[0, 0, 1, 1, 1, 2, 2, 2, 3, 3, 3, 4]\n"
       ]
      }
     ],
     "prompt_number": 2
    },
    {
     "cell_type": "markdown",
     "metadata": {},
     "source": [
      "The function `map()` always returns a list.\n",
      "\n",
      "Filtering\n",
      "---------\n",
      "The operation of filtering applies a function to all the items of a sequence, and if the function returns a value that evaluates to true, the item is appended to the resulting list.\n",
      "\n",
      "![Example of filtering](files/bpypd_diags10.png)\n",
      "\n",
      "In Python, filtering is implemented by the function `filter()`.\n",
      "\n",
      "Example:"
     ]
    },
    {
     "cell_type": "code",
     "collapsed": false,
     "input": [
      "# Selecting just odd numbers\n",
      "print filter(lambda x: x % 2, nums)"
     ],
     "language": "python",
     "metadata": {},
     "outputs": [
      {
       "output_type": "stream",
       "stream": "stdout",
       "text": [
        "[1, 3, 5, 7, 9, 11]\n"
       ]
      }
     ],
     "prompt_number": 3
    },
    {
     "cell_type": "markdown",
     "metadata": {},
     "source": [
      "The function `filter()` also accepts *lambda* functions, in addition to conventional functions.\n",
      "\n",
      "Reduction\n",
      "---------\n",
      "Reduction applies a function which takes two parameters to the first two elements of a sequence, applies the function again using the result of the previous pair and the third element as parameters, and continues in this manner until the end of the sequence. The final result of the reduction is just one element.\n",
      "\n",
      "![Example of reduction](files/bpypd_diags11.png)\n",
      "\n",
      "Examples of reduction (which is implemented in Python by the function `reduce()`):"
     ]
    },
    {
     "cell_type": "code",
     "collapsed": false,
     "input": [
      "nums = range(100)\n",
      "\n",
      "# Sum using reduce (can concatenate strings)\n",
      "print reduce(lambda x, y: x + y, nums)\n",
      "\n",
      "# Simpler sum, but only for numbers\n",
      "print sum(nums)"
     ],
     "language": "python",
     "metadata": {},
     "outputs": [
      {
       "output_type": "stream",
       "stream": "stdout",
       "text": [
        "4950\n",
        "4950\n"
       ]
      }
     ],
     "prompt_number": 4
    },
    {
     "cell_type": "markdown",
     "metadata": {},
     "source": [
      "The function `reduce()` can be used to calculate factorials:"
     ]
    },
    {
     "cell_type": "code",
     "collapsed": false,
     "input": [
      "# Calculate the factorial of n\n",
      "def fat(n):\n",
      "    return reduce(lambda x, y: x * y, range(1, n))\n",
      "\n",
      "print fat(6)"
     ],
     "language": "python",
     "metadata": {},
     "outputs": [
      {
       "output_type": "stream",
       "stream": "stdout",
       "text": [
        "120\n"
       ]
      }
     ],
     "prompt_number": 5
    },
    {
     "cell_type": "markdown",
     "metadata": {},
     "source": [
      "Starting from version 2.6, the module *math* includes a function to calculate factorials called `factorial()`.\n",
      "\n",
      "Transposition\n",
      "-------------\n",
      "Transposition constructs a series of sequences from another series of sequences, where the first new sequence contains the first element of each of the original sequences, the second new sequence contains the second element, and so on, until we reach the end of one of the original sequences.\n",
      "\n",
      "![Example of transposition](files/bpypd_diags12.png)\n",
      "\n",
      "Example of transposition (implemented in Python by the function `zip()`):"
     ]
    },
    {
     "cell_type": "code",
     "collapsed": false,
     "input": [
      "# A list with ('a', 1), ('b', 2), ...\n",
      "from string import ascii_lowercase\n",
      "print zip(ascii_lowercase, range(1, 100))\n",
      "\n",
      "# Transposition of a matrix\n",
      "matriz = [[1, 2, 3], [4, 5, 6], [7, 8, 9]]\n",
      "print zip(*matriz)"
     ],
     "language": "python",
     "metadata": {},
     "outputs": [
      {
       "output_type": "stream",
       "stream": "stdout",
       "text": [
        "[('a', 1), ('b', 2), ('c', 3), ('d', 4), ('e', 5), ('f', 6), ('g', 7), ('h', 8), ('i', 9), ('j', 10), ('k', 11), ('l', 12), ('m', 13), ('n', 14), ('o', 15), ('p', 16), ('q', 17), ('r', 18), ('s', 19), ('t', 20), ('u', 21), ('v', 22), ('w', 23), ('x', 24), ('y', 25), ('z', 26)]\n",
        "[(1, 4, 7), (2, 5, 8), (3, 6, 9)]\n"
       ]
      }
     ],
     "prompt_number": 6
    },
    {
     "cell_type": "markdown",
     "metadata": {},
     "source": [
      "The function `zip()` always returns a list of tuples.\n",
      "\n",
      "*List Comprehensions*\n",
      "---------------------\n",
      "In computation, the *list comprehension* is a construct that mirrors a mathematical notation of the form:\n",
      "\n",
      "$$ S = \\\\{ x^{2} \\forall \\in \\mathbb{N}, x \\geq 20 \\\\} $$\n",
      "\n",
      "In other words, S is the set formed by x squared for all x in the set of natural numbers, if x is greater than or equal to 20.\n",
      "\n",
      "Syntax:\n",
      "\n",
      "    list = [ <expression> for <name> in <sequence> if <condition> ]\n",
      "\n",
      "Example:"
     ]
    },
    {
     "cell_type": "code",
     "collapsed": false,
     "input": [
      "nums = [1, 2, 3, 4, 5, 6, 7, 8, 9, 10, 11, 12]\n",
      "\n",
      "# Get the squares of odd numbers\n",
      "print [ x**2 for x in nums if x % 2 ]"
     ],
     "language": "python",
     "metadata": {},
     "outputs": [
      {
       "output_type": "stream",
       "stream": "stdout",
       "text": [
        "[1, 9, 25, 49, 81, 121]\n"
       ]
      }
     ],
     "prompt_number": 7
    },
    {
     "cell_type": "markdown",
     "metadata": {},
     "source": [
      "*List comprehensions* are more efficient than the functions `map()` or `filter()` in terms of processor and memory usage.\n",
      "\n",
      "*Generator Expressions*\n",
      "-----------------------\n",
      "A *generator expression* is an expression that resembles a list comprehension, but functions as a generator.\n",
      "\n",
      "Example:"
     ]
    },
    {
     "cell_type": "code",
     "collapsed": false,
     "input": [
      "nums = [1, 2, 3, 4, 5, 6, 7, 8, 9, 10, 11, 12]\n",
      "\n",
      "# Get the squares of odd numbers\n",
      "gen = ( x**2 for x in nums if x % 2 )\n",
      "\n",
      "# Show the results\n",
      "for num in gen:\n",
      "    print num"
     ],
     "language": "python",
     "metadata": {},
     "outputs": [
      {
       "output_type": "stream",
       "stream": "stdout",
       "text": [
        "1\n",
        "9\n",
        "25\n",
        "49\n",
        "81\n",
        "121\n"
       ]
      }
     ],
     "prompt_number": 8
    },
    {
     "cell_type": "markdown",
     "metadata": {},
     "source": [
      "Another example:"
     ]
    },
    {
     "cell_type": "code",
     "collapsed": false,
     "input": [
      "# A list of (artist, track) tuples:\n",
      "instrumentals = [('King Crimson', 'Fracture'),\n",
      "    ('Metallica','Call of Ktulu'),\n",
      "    ('Yes', 'Mood for a Day'),\n",
      "    ('Pink Floyd', 'One of This Days'),\n",
      "    ('Rush', 'YYZ')]\n",
      "\n",
      "# Filter and sort the tracks of artists whose names start with a letter \n",
      "# that comes before the letter N\n",
      "print sorted(track[-1] + ' / ' + track[0]\n",
      "    for track in instrumentals if\n",
      "    track[0].upper() < 'N')"
     ],
     "language": "python",
     "metadata": {},
     "outputs": [
      {
       "output_type": "stream",
       "stream": "stdout",
       "text": [
        "['Call of Ktulu / Metallica', 'Fracture / King Crimson']\n"
       ]
      }
     ],
     "prompt_number": 12
    },
    {
     "cell_type": "markdown",
     "metadata": {},
     "source": [
      "*Generator expressions* use less resources than the equivalent *list comprehensions* because the items are generated just once each time, and only when needed, which saves memory."
     ]
    },
    {
     "cell_type": "code",
     "collapsed": false,
     "input": [],
     "language": "python",
     "metadata": {},
     "outputs": [
      {
       "html": [
        "<style>\n",
        "    @font-face {\n",
        "        font-family: \"Computer Modern\";\n",
        "        src: url('http://mirrors.ctan.org/fonts/cm-unicode/fonts/otf/cmunss.otf');\n",
        "    }\n",
        "    div.cell{\n",
        "        width:800px;\n",
        "        margin-left:16% !important;\n",
        "        margin-right:auto;\n",
        "    }\n",
        "    h1 {\n",
        "        font-family: Helvetica, serif;\n",
        "    }\n",
        "    h4{\n",
        "        margin-top:12px;\n",
        "        margin-bottom: 3px;\n",
        "       }\n",
        "    div.text_cell_render{\n",
        "        font-family: Computer Modern, \"Helvetica Neue\", Arial, Helvetica, Geneva, sans-serif;\n",
        "        line-height: 145%;\n",
        "        font-size: 130%;\n",
        "        width:800px;\n",
        "        margin-left:auto;\n",
        "        margin-right:auto;\n",
        "    }\n",
        "    .CodeMirror{\n",
        "            font-family: \"Source Code Pro\", source-code-pro,Consolas, monospace;\n",
        "    }\n",
        "    .note{\n",
        "            border-bottom: 1px black dotted;\n",
        "    }\n",
        "    .prompt{\n",
        "        display: None;\n",
        "    }\n",
        "    .text_cell_render h5 {\n",
        "        font-weight: 300;\n",
        "        font-size: 16pt;\n",
        "        color: #4057A1;\n",
        "        font-style: italic;\n",
        "        margin-bottom: .5em;\n",
        "        margin-top: 0.5em;\n",
        "        display: block;\n",
        "    }\n",
        "    \n",
        "    .warning{\n",
        "        color: rgb( 240, 20, 20 )\n",
        "        }  \n",
        "</style>\n",
        "<script>\n",
        "    MathJax.Hub.Config({\n",
        "                        TeX: {\n",
        "                           extensions: [\"AMSmath.js\"]\n",
        "                           },\n",
        "                tex2jax: {\n",
        "                    inlineMath: [ ['$','$'], [\"\\\\(\",\"\\\\)\"] ],\n",
        "                    displayMath: [ ['$$','$$'], [\"\\\\[\",\"\\\\]\"] ]\n",
        "                },\n",
        "                displayAlign: 'center', // Change this to 'center' to center equations.\n",
        "                \"HTML-CSS\": {\n",
        "                    styles: {'.MathJax_Display': {\"margin\": 4}}\n",
        "                }\n",
        "        });\n",
        "</script>"
       ],
       "output_type": "pyout",
       "prompt_number": 1,
       "text": [
        "<IPython.core.display.HTML at 0x50f8f98>"
       ]
      }
     ],
     "prompt_number": 1
    }
   ],
   "metadata": {}
  }
 ]
}