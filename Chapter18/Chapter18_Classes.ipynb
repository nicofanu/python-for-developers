{
 "metadata": {
  "name": "Chapter18_Classes"
 },
 "nbformat": 3,
 "nbformat_minor": 0,
 "worksheets": [
  {
   "cells": [
    {
     "cell_type": "markdown",
     "metadata": {},
     "source": [
      "[Python for Developers](http://ricardoduarte.github.io/python-for-developers/#content)\n",
      "===================================\n",
      "2nd edition, revised and extended\n",
      "-----------------------------------\n",
      "\n",
      "Chapter 18: Classes\n",
      "=============================\n",
      "_____________________________\n",
      "Objects are computer abstractions that represent real-world entities, their qualities (attributes) and the actions (methods) that they can take. The class is the basic structure of the object-oriented paradigm, which represents the type of object, a model after which the objects are created.\n",
      "\n",
      "![Example of classes](files/bpypd_diags14.png)\n",
      "\n",
      "For example, the *Canine* class describes the characteristics and behaviours of canines in general, while the object *Bandit* represents a particular canine.\n",
      "\n",
      "Attributes are data structures that store information about the object and methods are functions associated with the object that describe how the object behaves.\n",
      "\n",
      "In Python, new objects are created from classes by assignment. The object is an instance of the class that has its own characteristics. When a new object is created, the constructor of the class is executed. In Python, the constructor is a special method called `__new__()`. After the constructor method has been called, the method `__init__()` is called to initialize the new instance.\n",
      "\n",
      "An object continues existing in memory while at least one reference to it exists. The Python interpreter possesses a special resource called a *garbage collector* that cleans objects without <span class=\"note\" title=\"To clean a reference to an object, use the del keyword. If all references are removed, the garbage collector will remove the object.\">references</span> from memory. When the object is cleaned, a special method `__done__()` is evoked. The *gc* module contains functions related to the the garbage collector.\n",
      "\n",
      "![A class and an object](files/bpypd_diags15.png)\n",
      "\n",
      "In Python:\n",
      "\n",
      "+ Everything is an object, even the basic types like whole numbers.\n",
      "+ Types and classes are unified.\n",
      "+ Operators are, in reality, calls to special methods.\n",
      "+ Classes are open (except for *builtins*).\n",
      "\n",
      "Special methods are signified by names in the form `__method__()` (two underscores at the beginning and end of the name) and define how objects derived from the class behave in particular situations, such as in operator overloading.\n",
      "\n",
      "In Python there are two types of classes, *old style* and *new style*. *New style* classes are derived from the *object* class and can utilize new features of Python such as *properties* and *metaclasses*. *Properties* are attributes calculated at runtime through methods, while metaclasses are classes that generate classes, which allow you to customize the behaviour of the classes. *Old style* classes are a remnant of older versions of Python which was kept in the language to guarantee backwards compatibility with legacy code.\n",
      "\n",
      "Syntax:"
     ]
    },
    {
     "cell_type": "code",
     "collapsed": false,
     "input": [
      "class Class(supcl1, supcl2):\n",
      "    \"\"\"\n",
      "    This is a class\n",
      "    \"\"\"\n",
      "    clsvar = []\n",
      "\n",
      "    def __init__(self, args):\n",
      "        \"\"\"\n",
      "        Initializer of the class\n",
      "        \"\"\"\n",
      "        <block of code>\n",
      "\n",
      "    def __done__(self):\n",
      "        \"\"\"\n",
      "        Destructor of the class\n",
      "        \"\"\"\n",
      "        <block of code>\n",
      "\n",
      "    def method(self, params):\n",
      "        \"\"\"\n",
      "        Instance method\n",
      "        \"\"\"\n",
      "        <block of code>\n",
      "\n",
      "    @classmethod\n",
      "    def cls_method(cls, params):\n",
      "        \"\"\"\n",
      "        Class method\n",
      "        \"\"\"\n",
      "        <block of code>\n",
      "\n",
      "    @staticmethod\n",
      "    def static_method(params):\n",
      "        \"\"\"\n",
      "        Static method\n",
      "        \"\"\"\n",
      "        <block of code>\n",
      "\n",
      "\n",
      "obj = Class()\n",
      "obj.method()\n",
      "\n",
      "Class.cls_method()\n",
      "Class.static_method()"
     ],
     "language": "python",
     "metadata": {},
     "outputs": [
      {
       "ename": "SyntaxError",
       "evalue": "invalid syntax (<ipython-input-1-abc30817a822>, line 11)",
       "output_type": "pyerr",
       "traceback": [
        "\u001b[0;36m  File \u001b[0;32m\"<ipython-input-1-abc30817a822>\"\u001b[0;36m, line \u001b[0;32m11\u001b[0m\n\u001b[0;31m    <block of code>\u001b[0m\n\u001b[0m    ^\u001b[0m\n\u001b[0;31mSyntaxError\u001b[0m\u001b[0;31m:\u001b[0m invalid syntax\n"
       ]
      }
     ],
     "prompt_number": 1
    },
    {
     "cell_type": "markdown",
     "metadata": {},
     "source": [
      "Instance methods can use attributes and other methods of the object (the instance). The variable *self* refers to the object and also needs to be passed explicitly. The name *self* is a convention, like *cls*, and while any other name could be used, it is considered good practise to maintain the name.\n",
      "\n",
      "Class methods can only use attributes and other methods of the class. The argument cls represents the class itself, and it must be passed explicitly as the first parameter of the method.\n",
      "\n",
      "Static methods are those that have no relation to the attributes of the instance or the class. They serve as regular functions.\n",
      "\n",
      "Example of a class:"
     ]
    },
    {
     "cell_type": "code",
     "collapsed": false,
     "input": [
      "class Cell(object):\n",
      "    \"\"\"\n",
      "    Class for cells of a spreadsheet\n",
      "    \"\"\"\n",
      "\n",
      "    def __init__(self, formula='\"\"', format='%s'):\n",
      "        \"\"\"\n",
      "        Initialize the cell\n",
      "        \"\"\"\n",
      "\n",
      "        self.formula = formula\n",
      "        self.format = format\n",
      "\n",
      "    def __repr__(self):\n",
      "        \"\"\"\n",
      "        Return a string representation of the cell\n",
      "        \"\"\"\n",
      "\n",
      "        return self.format % eval(self.formula)\n",
      "\n",
      "\n",
      "print Cell('123**2')\n",
      "print Cell('23*2+2')\n",
      "print Cell('abs(-1.45 / 0.3)', '%2.3f')"
     ],
     "language": "python",
     "metadata": {},
     "outputs": [
      {
       "output_type": "stream",
       "stream": "stdout",
       "text": [
        "15129\n",
        "48\n",
        "4.833\n"
       ]
      }
     ],
     "prompt_number": 2
    },
    {
     "cell_type": "markdown",
     "metadata": {},
     "source": [
      "The method `__repr__()` is used internally by the `print` command to obtain a representation of the object in the form of text.\n",
      "\n",
      "In Python, private variables and methods (that can only be accessed by the object itself) don't exist. Instead, a convention is used where the name is prefixed with an underscore and should be taken to mean that the variable or method is considered part of the object's internal implementation, subject to change without prior notice. Furthermore, the language offers a feature called *name mangling*, which prefixes the front of names that start with two underscores with an underscore and the name of the class.\n",
      "\n",
      "Example:"
     ]
    },
    {
     "cell_type": "code",
     "collapsed": false,
     "input": [
      "class Calc:\n",
      "\n",
      "    def __init__(self, formula, **vars):\n",
      "\n",
      "        self.formula = formula\n",
      "        self.vars = vars\n",
      "\n",
      "        self.__recalc()\n",
      "    \n",
      "    def __recalc(self):\n",
      "\n",
      "        self.__res = eval(self.formula, self.vars)\n",
      "\n",
      "    def __repr__(self):\n",
      "\n",
      "        self.__recalc()\n",
      "        return str(self.__res)\n",
      "\n",
      "\n",
      "formula = '2*x + 3*y + z**2'\n",
      "calc = Calc(formula, x=2, y=3, z=1)\n",
      "\n",
      "print 'f\u00f3rmula:', calc.formula\n",
      "print 'x =', calc.vars['x'],'-> calc =', calc\n",
      "calc.vars['x'] = 4\n",
      "print 'x =', calc.vars['x'],'-> calc =', calc\n",
      "print dir(calc)"
     ],
     "language": "python",
     "metadata": {},
     "outputs": [
      {
       "output_type": "stream",
       "stream": "stdout",
       "text": [
        "f\u00f3rmula: 2*x + 3*y + z**2\n",
        "x = 2 -> calc = 14\n",
        "x = 4 -> calc = 18\n",
        "['_Calc__recalc', '_Calc__res', '__doc__', '__init__', '__module__', '__repr__', 'formula', 'vars']\n"
       ]
      }
     ],
     "prompt_number": 3
    },
    {
     "cell_type": "markdown",
     "metadata": {},
     "source": [
      "The method `__recalc()` shows up as `_Calc__recalc()`, and the attribute `__res` as `_Calc__res` outside the object.\n",
      "\n",
      "Open classes\n",
      "---------------\n",
      "In Python, classes that aren't *builtins* can be changed at runtime due to the dynamic nature of the language. It's possible to add new methods and attributes, for example. The same logic applies to objects.\n",
      "\n",
      "Example of how to add a new method:"
     ]
    },
    {
     "cell_type": "code",
     "collapsed": false,
     "input": [
      "class User(object):\n",
      "    \"\"\"A very simple class.\n",
      "    \"\"\"\n",
      "    def __init__(self, name):\n",
      "        \"\"\"Initialize the class, setting a name\n",
      "        \"\"\"\n",
      "        self.name = name\n",
      "\n",
      "\n",
      "# a new method for the class\n",
      "def set_password(self, password):\n",
      "    \"\"\"Change the password\n",
      "    \"\"\"\n",
      "    self.password = password\n",
      "\n",
      "print 'Original class:', dir(User)\n",
      "\n",
      "# the new method is inserted into the class\n",
      "User.set_password = set_password\n",
      "print 'Modified class:', dir(User)\n",
      "\n",
      "user = User('guest')\n",
      "user.set_password('guest')\n",
      "\n",
      "print 'Object:', dir(user)\n",
      "print 'Password:', user.password"
     ],
     "language": "python",
     "metadata": {},
     "outputs": [
      {
       "output_type": "stream",
       "stream": "stdout",
       "text": [
        "Classe original: ['__class__', '__delattr__', '__dict__', '__doc__', '__format__', '__getattribute__', '__hash__', '__init__', '__module__', '__new__', '__reduce__', '__reduce_ex__', '__repr__', '__setattr__', '__sizeof__', '__str__', '__subclasshook__', '__weakref__']\n",
        "Classe modificada: ['__class__', '__delattr__', '__dict__', '__doc__', '__format__', '__getattribute__', '__hash__', '__init__', '__module__', '__new__', '__reduce__', '__reduce_ex__', '__repr__', '__setattr__', '__sizeof__', '__str__', '__subclasshook__', '__weakref__', 'set_password']\n",
        "Objeto: ['__class__', '__delattr__', '__dict__', '__doc__', '__format__', '__getattribute__', '__hash__', '__init__', '__module__', '__new__', '__reduce__', '__reduce_ex__', '__repr__', '__setattr__', '__sizeof__', '__str__', '__subclasshook__', '__weakref__', 'name', 'password', 'set_password']\n",
        "Senha: guest\n"
       ]
      }
     ],
     "prompt_number": 4
    },
    {
     "cell_type": "markdown",
     "metadata": {},
     "source": [
      "The modified class now has a new method: `set_password()`."
     ]
    },
    {
     "cell_type": "code",
     "collapsed": false,
     "input": [],
     "language": "python",
     "metadata": {},
     "outputs": [
      {
       "html": [
        "<style>\n",
        "    @font-face {\n",
        "        font-family: \"Computer Modern\";\n",
        "        src: url('http://mirrors.ctan.org/fonts/cm-unicode/fonts/otf/cmunss.otf');\n",
        "    }\n",
        "    div.cell{\n",
        "        width:800px;\n",
        "        margin-left:16% !important;\n",
        "        margin-right:auto;\n",
        "    }\n",
        "    h1 {\n",
        "        font-family: Helvetica, serif;\n",
        "    }\n",
        "    h4{\n",
        "        margin-top:12px;\n",
        "        margin-bottom: 3px;\n",
        "       }\n",
        "    div.text_cell_render{\n",
        "        font-family: Computer Modern, \"Helvetica Neue\", Arial, Helvetica, Geneva, sans-serif;\n",
        "        line-height: 145%;\n",
        "        font-size: 130%;\n",
        "        width:800px;\n",
        "        margin-left:auto;\n",
        "        margin-right:auto;\n",
        "    }\n",
        "    .CodeMirror{\n",
        "            font-family: \"Source Code Pro\", source-code-pro,Consolas, monospace;\n",
        "    }\n",
        "    .note{\n",
        "            border-bottom: 1px black dotted;\n",
        "    }\n",
        "    .prompt{\n",
        "        display: None;\n",
        "    }\n",
        "    .text_cell_render h5 {\n",
        "        font-weight: 300;\n",
        "        font-size: 16pt;\n",
        "        color: #4057A1;\n",
        "        font-style: italic;\n",
        "        margin-bottom: .5em;\n",
        "        margin-top: 0.5em;\n",
        "        display: block;\n",
        "    }\n",
        "    \n",
        "    .warning{\n",
        "        color: rgb( 240, 20, 20 )\n",
        "        }  \n",
        "</style>\n",
        "<script>\n",
        "    MathJax.Hub.Config({\n",
        "                        TeX: {\n",
        "                           extensions: [\"AMSmath.js\"]\n",
        "                           },\n",
        "                tex2jax: {\n",
        "                    inlineMath: [ ['$','$'], [\"\\\\(\",\"\\\\)\"] ],\n",
        "                    displayMath: [ ['$$','$$'], [\"\\\\[\",\"\\\\]\"] ]\n",
        "                },\n",
        "                displayAlign: 'center', // Change this to 'center' to center equations.\n",
        "                \"HTML-CSS\": {\n",
        "                    styles: {'.MathJax_Display': {\"margin\": 4}}\n",
        "                }\n",
        "        });\n",
        "</script>"
       ],
       "output_type": "pyout",
       "prompt_number": 1,
       "text": [
        "<IPython.core.display.HTML at 0x50f8f98>"
       ]
      }
     ],
     "prompt_number": 1
    }
   ],
   "metadata": {}
  }
 ]
}